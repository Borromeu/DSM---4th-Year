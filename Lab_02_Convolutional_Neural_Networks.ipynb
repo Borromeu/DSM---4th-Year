{
  "cells": [
    {
      "cell_type": "markdown",
      "metadata": {
        "colab_type": "text",
        "id": "view-in-github"
      },
      "source": [
        "<a href=\"https://colab.research.google.com/github/AndyCatruna/DSM/blob/main/Lab_02_Convolutional_Neural_Networks.ipynb\" target=\"_parent\"><img src=\"https://colab.research.google.com/assets/colab-badge.svg\" alt=\"Open In Colab\"/></a>"
      ]
    },
    {
      "cell_type": "markdown",
      "metadata": {
        "id": "irfxF57aLV_6"
      },
      "source": [
        "# Convolutional Neural Networks"
      ]
    },
    {
      "cell_type": "markdown",
      "metadata": {
        "id": "HD0sDSA5Lahb"
      },
      "source": [
        "In this lab we will explore Convolutional Neural Networks for image classification."
      ]
    },
    {
      "cell_type": "markdown",
      "metadata": {
        "id": "UZozcofHLpMb"
      },
      "source": [
        "## Convolution Operation"
      ]
    },
    {
      "cell_type": "markdown",
      "metadata": {
        "id": "J_4KfNKRL_LO"
      },
      "source": [
        "<img src=\"https://upload.wikimedia.org/wikipedia/commons/0/04/Convolution_arithmetic_-_Padding_strides.gif?20190413174630\" />"
      ]
    },
    {
      "cell_type": "markdown",
      "metadata": {
        "id": "wZEFu1dqMkKs"
      },
      "source": [
        "The problems of using fully connected neural networks for processing images:\n",
        "- The image needs to be transformed into a vector - spatial information is discarded;\n",
        "- Each neuron of the first layer is connected to all pixel values of the image - a lot of parameters for a single layer"
      ]
    },
    {
      "cell_type": "markdown",
      "metadata": {
        "id": "4qtRy26oN05Z"
      },
      "source": [
        "Main ideas of CNN:\n",
        "- Each neuron looks only at a local window of the input\n",
        "- You slide a small kernel (set of weights) across the whole image - the same weights are re-used for the whole image\n",
        "- You utilize different kernels for extracting different features as each set of weights is looking for something else"
      ]
    },
    {
      "cell_type": "markdown",
      "metadata": {
        "id": "Ubx61vN5PC8S"
      },
      "source": [
        "In the following visualization:\n",
        "- The green matrix - input\n",
        "- Yellow matrix that slides across the image - the kernel (set of weights) - trainable\n",
        "- The result - feature map\n",
        "\n",
        "<img src=\"https://miro.medium.com/v2/resize:fit:1052/0*jLoqqFsO-52KHTn9.gif\"/>"
      ]
    },
    {
      "cell_type": "markdown",
      "metadata": {
        "id": "BA8aHsczRJ8F"
      },
      "source": [
        "- The kernel has the same channel size as the input\n",
        "- The input does not have to be an image - it just has to be an image-like structure\n",
        "- We stack the resulting feature maps of each kernel convolution into an image-like structure - so that we can apply other convolutions to it and extract more meaningful features\n",
        "\n",
        "<img src=\"https://animatedai.github.io/media/convolution-animation-3x3-kernel.gif\" width=700/>"
      ]
    },
    {
      "cell_type": "markdown",
      "metadata": {
        "id": "yhdaUK56SasY"
      },
      "source": [
        "## Pooling"
      ]
    },
    {
      "cell_type": "markdown",
      "metadata": {
        "id": "VKmlVCfFSoPl"
      },
      "source": [
        "- We utilize **pooling layers** to downsample the spatial size (height and width) while keeping the relevant information.\n",
        "- Usually there are no trainable parameters in this layer - it is just used for **efficiency**.\n",
        "\n",
        "<img src=\"https://wikidocs.net/images/page/164835/Fig_03.png\" width=500/>"
      ]
    },
    {
      "cell_type": "markdown",
      "metadata": {
        "id": "aQ74B-rFTKs0"
      },
      "source": [
        "Usual types of pooling:\n",
        "\n",
        "<img src=\"https://miro.medium.com/v2/resize:fit:1200/0*lIcR0gOMK0xzTr6_.png\" />\n",
        "\n",
        "You can check out the types of pooling layers available in PyTorch [here](https://pytorch.org/docs/stable/nn.html#pooling-layers)"
      ]
    },
    {
      "cell_type": "markdown",
      "metadata": {
        "id": "D8GGOeskVPW4"
      },
      "source": [
        "## Convolutional Neural Network\n",
        "\n",
        "- A CNN is composed of convolution layers + activation functions + some pooling layers\n",
        "- For classification a fully connected network is utilized - its input is the last set of feature maps obtained by the CNN layers\n",
        "\n",
        "<img src=\"https://miro.medium.com/v2/resize:fit:1400/1*vkQ0hXDaQv57sALXAJquxA.jpeg\" />"
      ]
    },
    {
      "cell_type": "markdown",
      "metadata": {
        "id": "aHVLM77KWP6n"
      },
      "source": [
        "## CNNs in PyTorch"
      ]
    },
    {
      "cell_type": "markdown",
      "metadata": {
        "id": "jSsFemVMWZXx"
      },
      "source": [
        "Necessary imports for this lab"
      ]
    },
    {
      "cell_type": "code",
      "execution_count": 2,
      "metadata": {
        "id": "M2xKWkeGLKWv"
      },
      "outputs": [],
      "source": [
        "import sys\n",
        "\n",
        "import numpy as np\n",
        "from tqdm import tqdm\n",
        "\n",
        "import torch\n",
        "import torch.nn as nn\n",
        "import torch.optim as optim\n",
        "import torchvision\n",
        "from torchvision import transforms, datasets\n",
        "from torch.utils.data import Dataset, DataLoader"
      ]
    },
    {
      "cell_type": "markdown",
      "metadata": {
        "id": "cEq2mj8uWjUu"
      },
      "source": [
        "We will use the CIFAR10 dataset which contains 32x32 images of 10 different classes. You can read about the dataset [here](https://www.cs.toronto.edu/~kriz/cifar.html)"
      ]
    },
    {
      "cell_type": "code",
      "execution_count": 3,
      "metadata": {
        "id": "gBCaHpDGWssl"
      },
      "outputs": [
        {
          "name": "stderr",
          "output_type": "stream",
          "text": [
            "100%|██████████| 170M/170M [00:29<00:00, 5.76MB/s] \n"
          ]
        }
      ],
      "source": [
        "# TODO for Exercise 2 - Add more transforms - data augmentations (only for training samples)\n",
        "train_transform = transforms.Compose(\n",
        "    [\n",
        "      # For Exercise 2 - Add image transforms here before ToTensor()\n",
        "\n",
        "      transforms.ToTensor(),\n",
        "      transforms.Normalize((0.5, 0.5, 0.5), (0.5, 0.5, 0.5))\n",
        "    ])\n",
        "\n",
        "test_transform = transforms.Compose(\n",
        "    [\n",
        "        transforms.ToTensor(),\n",
        "        transforms.Normalize((0.5, 0.5, 0.5), (0.5, 0.5, 0.5))\n",
        "    ])\n",
        "\n",
        "trainset = datasets.CIFAR10(root='./data', train=True,\n",
        "                                        download=True, transform=train_transform)\n",
        "\n",
        "# The batch size is the number of images the model processes in parallel\n",
        "# We use shuffle for training as we don't want the model to see the images in the same order\n",
        "trainloader = DataLoader(trainset, batch_size=256,\n",
        "                                          shuffle=True)\n",
        "\n",
        "testset = datasets.CIFAR10(root='./data', train=False,\n",
        "                                       download=True, transform=test_transform)\n",
        "\n",
        "# For testing we don't have to shuffle the data\n",
        "testloader = DataLoader(testset, batch_size=256,\n",
        "                                         shuffle=False)\n",
        "\n",
        "classes = ('plane', 'car', 'bird', 'cat',\n",
        "           'deer', 'dog', 'frog', 'horse', 'ship', 'truck')"
      ]
    },
    {
      "cell_type": "markdown",
      "metadata": {
        "id": "-ntIMD9_kxUO"
      },
      "source": [
        "We plot some images from the dataset in order to get an idea of how they look."
      ]
    },
    {
      "cell_type": "code",
      "execution_count": 4,
      "metadata": {
        "id": "0Rdg6zBWkzF6"
      },
      "outputs": [
        {
          "name": "stdout",
          "output_type": "stream",
          "text": [
            "   plane     bird    plane      dog      cat     frog     frog     deer\n"
          ]
        },
        {
          "data": {
            "image/png": "[encoded data removed]",
            "text/plain": [
              "<Figure size 640x480 with 1 Axes>"
            ]
          },
          "metadata": {},
          "output_type": "display_data"
        }
      ],
      "source": [
        "import matplotlib.pyplot as plt\n",
        "import numpy as np\n",
        "\n",
        "# function to show an image\n",
        "def imshow(img):\n",
        "    img = img / 2 + 0.5     # unnormalize\n",
        "    npimg = img.numpy()\n",
        "    plt.imshow(np.transpose(npimg, (1, 2, 0)))\n",
        "\n",
        "\n",
        "# get some random training images\n",
        "dataiter = iter(trainloader)\n",
        "images, labels = next(dataiter)\n",
        "\n",
        "# show images\n",
        "imshow(torchvision.utils.make_grid(images[:8]))\n",
        "\n",
        "# print labels\n",
        "print(' '.join('%8s' % classes[labels[j]] for j in range(8)))"
      ]
    },
    {
      "cell_type": "markdown",
      "metadata": {
        "id": "zeA6Lf5flDxT"
      },
      "source": [
        "We define the device on which we will train the models. For this lab you should have GPU execution enabled. Training the models on cpu will take too much time.\n",
        "\n",
        "If the models still take too much time to train, you can try to increase the batch size value in the dataloaders (if you increase it too much you might get \"Out of memory error\")."
      ]
    },
    {
      "cell_type": "code",
      "execution_count": 5,
      "metadata": {
        "id": "zfmAQi_RlHUB"
      },
      "outputs": [],
      "source": [
        "device = torch.device(\"cuda\" if torch.cuda.is_available() else \"cpu\")"
      ]
    },
    {
      "cell_type": "markdown",
      "metadata": {
        "id": "APMKuS-4lNCb"
      },
      "source": [
        "We define a training epoch in which we iterate through all the data in the training set and update the model.\n",
        "\n",
        "A model is usually trained for multiple epochs - it sees the training data multiple times."
      ]
    },
    {
      "cell_type": "code",
      "execution_count": 7,
      "metadata": {
        "id": "BX4VJbT3lQS2"
      },
      "outputs": [],
      "source": [
        "def train_epoch(model, dataloader, device, optimizer, criterion, epoch):\n",
        "    # We set the model to be in training mode\n",
        "    model.train()\n",
        "\n",
        "    total_train_loss = 0.0\n",
        "    dataset_size = 0\n",
        "\n",
        "    # This is only for showing the progress bar\n",
        "    bar = tqdm(enumerate(dataloader), total=len(dataloader), colour='cyan', file=sys.stdout)\n",
        "\n",
        "    # We iterate through all batches - 1 step is 1 batch of batch_size images\n",
        "    for step, (images, labels) in bar:\n",
        "        # We take the images and their labels and push them on GPU\n",
        "        images = images.to(device)\n",
        "        labels = labels.to(device)\n",
        "\n",
        "        batch_size = images.shape[0]\n",
        "\n",
        "        # Reset gradients\n",
        "        optimizer.zero_grad()\n",
        "\n",
        "        # Obtain predictions\n",
        "        pred = model(images)\n",
        "\n",
        "        # Compute loss for this batch\n",
        "        loss = criterion(pred, labels)\n",
        "\n",
        "        # Compute gradients for each weight (backpropagation)\n",
        "        loss.backward()\n",
        "\n",
        "        # Update weights based on gradients (gradient descent)\n",
        "        optimizer.step()\n",
        "\n",
        "        # We keep track of the average training loss\n",
        "        total_train_loss += (loss.item() * batch_size)\n",
        "        dataset_size += batch_size\n",
        "\n",
        "        epoch_loss = np.round(total_train_loss / dataset_size, 2)\n",
        "        bar.set_postfix(Epoch=epoch, Train_Loss=epoch_loss)\n",
        "\n",
        "    return epoch_loss"
      ]
    },
    {
      "cell_type": "markdown",
      "metadata": {
        "id": "2VBlgB8SmxIY"
      },
      "source": [
        "We define the validation function in which the model is tested on unseen images.\n",
        "\n",
        "The validation function looks similar to the training one, except we do not compute gradients or do any gradient descent.\n",
        "\n",
        "Ideally, we should evaluate the model every few training epochs to see how the model generalizes to new examples."
      ]
    },
    {
      "cell_type": "code",
      "execution_count": 8,
      "metadata": {
        "id": "oLrlitpknOnl"
      },
      "outputs": [],
      "source": [
        "def valid_epoch(model, dataloader, device, criterion, epoch):\n",
        "    # We set the model in evaluation mode\n",
        "    model.eval()\n",
        "\n",
        "    total_val_loss = 0.0\n",
        "    dataset_size = 0\n",
        "\n",
        "    # We keep track of correct predictions\n",
        "    correct = 0\n",
        "\n",
        "    # This is only for showing the progress bar\n",
        "    bar = tqdm(enumerate(dataloader), total=len(dataloader), colour='cyan', file=sys.stdout)\n",
        "\n",
        "    for step, (images, labels) in bar:\n",
        "        images = images.to(device)\n",
        "        labels = labels.to(device)\n",
        "\n",
        "        batch_size = images.shape[0]\n",
        "\n",
        "        pred = model(images)\n",
        "        loss = criterion(pred, labels)\n",
        "\n",
        "        # The raw output of the model is a score for each class\n",
        "        # We keep the index of the class with the highest score as the prediction\n",
        "        _, predicted = torch.max(pred, 1)\n",
        "\n",
        "        # We see how many predictions match the ground truth labels\n",
        "        correct += (predicted == labels).sum().item()\n",
        "\n",
        "        # We compute evaluation metrics - loss and accurarcy\n",
        "        total_val_loss += (loss.item() * batch_size)\n",
        "        dataset_size += batch_size\n",
        "\n",
        "        epoch_loss = np.round(total_val_loss / dataset_size, 2)\n",
        "\n",
        "        accuracy = np.round(100 * correct / dataset_size, 2)\n",
        "\n",
        "        bar.set_postfix(Epoch=epoch, Valid_Acc=accuracy, Valid_Loss=epoch_loss)\n",
        "\n",
        "    return accuracy, epoch_loss"
      ]
    },
    {
      "cell_type": "markdown",
      "metadata": {
        "id": "EH1WEeG-oDIy"
      },
      "source": [
        "We define the function that receives the model and trains it with an optimizer and loss function (criterion) for a number of epochs."
      ]
    },
    {
      "cell_type": "code",
      "execution_count": 9,
      "metadata": {
        "id": "Oi6sORPJoGBi"
      },
      "outputs": [],
      "source": [
        "def run_training(model, criterion, optimizer, num_epochs):\n",
        "    # Check if we are using GPU\n",
        "    if torch.cuda.is_available():\n",
        "        print(\"[INFO] Using GPU: {}\\n\".format(torch.cuda.get_device_name()))\n",
        "\n",
        "    # For keeping track of the best validation accuracy\n",
        "    top_accuracy = 0.0\n",
        "\n",
        "    # We train the emodel for a number of epochs\n",
        "    for epoch in range(num_epochs):\n",
        "\n",
        "        train_loss = train_epoch(model, trainloader, device, optimizer, criterion, epoch)\n",
        "\n",
        "        # For validation we do not keep track of gradients\n",
        "        with torch.no_grad():\n",
        "            val_accuracy, val_loss = valid_epoch(model, testloader, device, criterion, epoch)\n",
        "            if val_accuracy > top_accuracy:\n",
        "                print(f\"Validation Accuracy Improved ({top_accuracy} ---> {val_accuracy})\")\n",
        "                top_accuracy = val_accuracy\n",
        "        print()"
      ]
    },
    {
      "cell_type": "markdown",
      "metadata": {
        "id": "YehGuLAzojlf"
      },
      "source": [
        "#### Fully Connected Neural Network"
      ]
    },
    {
      "cell_type": "markdown",
      "metadata": {
        "id": "OtFKC5GbonBR"
      },
      "source": [
        "We first train a fully connected network (which we played with in Lab 1) on the images to compare it with CNN models.\n",
        "\n",
        "The fully connected neural network is not a very wise choice for images because we lose spatial information."
      ]
    },
    {
      "cell_type": "code",
      "execution_count": 10,
      "metadata": {
        "id": "zZOsdw1lo1Dh"
      },
      "outputs": [],
      "source": [
        "class FCNNet(nn.Module):\n",
        "    def __init__(self):\n",
        "        super(FCNNet, self).__init__()\n",
        "\n",
        "        # Linear layers\n",
        "        # in_features of first layer should correspond to size of images - 3 channels, height 32, width 32\n",
        "        # out_features of last layer should correspond to number of classes - 10\n",
        "\n",
        "        self.fc1 = nn.Linear(in_features=3 * 32 * 32, out_features=360)\n",
        "        self.fc2 = nn.Linear(in_features=360, out_features=120)\n",
        "        self.fc3 = nn.Linear(in_features=120, out_features=84)\n",
        "        self.fc4 = nn.Linear(in_features=84, out_features=10)\n",
        "\n",
        "        # Activation function - can be replaced by other better functions (GELU, Mish etc.)\n",
        "        self.activation = nn.ReLU()\n",
        "\n",
        "    def forward(self, x):\n",
        "        # We transform the image into a 1D vector of size 3 * 32 * 32\n",
        "        x = x.view(-1, 3 * 32 * 32)\n",
        "\n",
        "        # Remember - we use activation functions after each linear layer (except the last one)\n",
        "        x = self.activation(self.fc1(x))\n",
        "        x = self.activation(self.fc2(x))\n",
        "        x = self.activation(self.fc3(x))\n",
        "\n",
        "        # Output is 10 scores, one for each class\n",
        "        x = self.fc4(x)\n",
        "\n",
        "        return x"
      ]
    },
    {
      "cell_type": "markdown",
      "metadata": {
        "id": "D4Jmu8N1phqK"
      },
      "source": [
        "We construct the model and push it on GPU"
      ]
    },
    {
      "cell_type": "code",
      "execution_count": 11,
      "metadata": {
        "id": "UBRGMhwhpfH8"
      },
      "outputs": [
        {
          "data": {
            "text/plain": [
              "FCNNet(\n",
              "  (fc1): Linear(in_features=3072, out_features=360, bias=True)\n",
              "  (fc2): Linear(in_features=360, out_features=120, bias=True)\n",
              "  (fc3): Linear(in_features=120, out_features=84, bias=True)\n",
              "  (fc4): Linear(in_features=84, out_features=10, bias=True)\n",
              "  (activation): ReLU()\n",
              ")"
            ]
          },
          "execution_count": 11,
          "metadata": {},
          "output_type": "execute_result"
        }
      ],
      "source": [
        "model = FCNNet()\n",
        "model.to(device)"
      ]
    },
    {
      "cell_type": "markdown",
      "metadata": {
        "id": "bDt8W5hrpU2O"
      },
      "source": [
        "We define the training helpers - hyperparameters, loss, optimizer"
      ]
    },
    {
      "cell_type": "code",
      "execution_count": 12,
      "metadata": {
        "id": "wK1ZV_qnpazF"
      },
      "outputs": [],
      "source": [
        "# Hyperparameters\n",
        "learning_rate = 0.001\n",
        "epochs = 10\n",
        "\n",
        "# Loss - dependinng on the task you should change this\n",
        "criterion = nn.CrossEntropyLoss()\n",
        "\n",
        "# Adam is an improved gradient descent algorithm\n",
        "optimizer = optim.Adam(model.parameters(), lr=learning_rate)"
      ]
    },
    {
      "cell_type": "markdown",
      "metadata": {
        "id": "9zy8Lthbpuan"
      },
      "source": [
        "We run the full training"
      ]
    },
    {
      "cell_type": "code",
      "execution_count": 13,
      "metadata": {
        "id": "WBvkM6YxpvwQ"
      },
      "outputs": [
        {
          "name": "stdout",
          "output_type": "stream",
          "text": [
            "[INFO] Using GPU: NVIDIA GeForce RTX 3050 Ti Laptop GPU\n",
            "\n",
            "100%|\u001b[36m██████████\u001b[0m| 196/196 [00:11<00:00, 16.62it/s, Epoch=0, Train_Loss=1.69]\n",
            "100%|\u001b[36m██████████\u001b[0m| 40/40 [00:01<00:00, 24.38it/s, Epoch=0, Valid_Acc=46.3, Valid_Loss=1.54]\n",
            "Validation Accuracy Improved (0.0 ---> 46.27)\n",
            "\n",
            "100%|\u001b[36m██████████\u001b[0m| 196/196 [00:09<00:00, 19.68it/s, Epoch=1, Train_Loss=1.45]\n",
            "100%|\u001b[36m██████████\u001b[0m| 40/40 [00:01<00:00, 26.13it/s, Epoch=1, Valid_Acc=49.7, Valid_Loss=1.43]\n",
            "Validation Accuracy Improved (46.27 ---> 49.69)\n",
            "\n",
            "100%|\u001b[36m██████████\u001b[0m| 196/196 [00:10<00:00, 19.36it/s, Epoch=2, Train_Loss=1.34]\n",
            "100%|\u001b[36m██████████\u001b[0m| 40/40 [00:01<00:00, 25.87it/s, Epoch=2, Valid_Acc=51.8, Valid_Loss=1.38]\n",
            "Validation Accuracy Improved (49.69 ---> 51.79)\n",
            "\n",
            "100%|\u001b[36m██████████\u001b[0m| 196/196 [00:12<00:00, 15.15it/s, Epoch=3, Train_Loss=1.25]\n",
            "100%|\u001b[36m██████████\u001b[0m| 40/40 [00:01<00:00, 26.13it/s, Epoch=3, Valid_Acc=52.4, Valid_Loss=1.36]\n",
            "Validation Accuracy Improved (51.79 ---> 52.43)\n",
            "\n",
            "100%|\u001b[36m██████████\u001b[0m| 196/196 [00:10<00:00, 19.38it/s, Epoch=4, Train_Loss=1.16]\n",
            "100%|\u001b[36m██████████\u001b[0m| 40/40 [00:01<00:00, 25.83it/s, Epoch=4, Valid_Acc=53.1, Valid_Loss=1.34]\n",
            "Validation Accuracy Improved (52.43 ---> 53.09)\n",
            "\n",
            "100%|\u001b[36m██████████\u001b[0m| 196/196 [00:10<00:00, 19.44it/s, Epoch=5, Train_Loss=1.1] \n",
            "100%|\u001b[36m██████████\u001b[0m| 40/40 [00:01<00:00, 25.67it/s, Epoch=5, Valid_Acc=53.4, Valid_Loss=1.35]\n",
            "Validation Accuracy Improved (53.09 ---> 53.44)\n",
            "\n",
            "100%|\u001b[36m██████████\u001b[0m| 196/196 [00:13<00:00, 15.03it/s, Epoch=6, Train_Loss=1.03]\n",
            "100%|\u001b[36m██████████\u001b[0m| 40/40 [00:01<00:00, 25.76it/s, Epoch=6, Valid_Acc=53.9, Valid_Loss=1.35]\n",
            "Validation Accuracy Improved (53.44 ---> 53.91)\n",
            "\n",
            "100%|\u001b[36m██████████\u001b[0m| 196/196 [00:10<00:00, 19.22it/s, Epoch=7, Train_Loss=0.97]\n",
            "100%|\u001b[36m██████████\u001b[0m| 40/40 [00:01<00:00, 25.58it/s, Epoch=7, Valid_Acc=55.1, Valid_Loss=1.33]\n",
            "Validation Accuracy Improved (53.91 ---> 55.08)\n",
            "\n",
            "100%|\u001b[36m██████████\u001b[0m| 196/196 [00:10<00:00, 18.67it/s, Epoch=8, Train_Loss=0.91]\n",
            "100%|\u001b[36m██████████\u001b[0m| 40/40 [00:01<00:00, 25.05it/s, Epoch=8, Valid_Acc=55.2, Valid_Loss=1.35]\n",
            "Validation Accuracy Improved (55.08 ---> 55.24)\n",
            "\n",
            "100%|\u001b[36m██████████\u001b[0m| 196/196 [00:13<00:00, 14.98it/s, Epoch=9, Train_Loss=0.84]\n",
            "100%|\u001b[36m██████████\u001b[0m| 40/40 [00:01<00:00, 25.40it/s, Epoch=9, Valid_Acc=53.8, Valid_Loss=1.43]\n",
            "\n"
          ]
        }
      ],
      "source": [
        "run_training(model, criterion, optimizer, epochs)"
      ]
    },
    {
      "cell_type": "markdown",
      "metadata": {
        "id": "ViHRRHxVqOwh"
      },
      "source": [
        "#### Convolutional Neural Network"
      ]
    },
    {
      "cell_type": "markdown",
      "metadata": {
        "id": "lDr8m9hhqSz8"
      },
      "source": [
        "We will construct convolutional neural network. We use:\n",
        "- [nn.Conv2d](https://pytorch.org/docs/stable/generated/torch.nn.Conv2d.html) to define a convolutional layer. It has the following important arguments:\n",
        "  - in_channels - number of channels in input (for images it should be 3)\n",
        "  - out_channels - the number of feature maps to be produced by the layer - how many features you want to extract\n",
        "  - **in_channels of a inner layer should correspond to out_channels of previous layer**\n",
        "  - kernel_size - the size of the matrix of weights that slides across the input\n",
        "  - There are [other arguments]((https://pytorch.org/docs/stable/generated/torch.nn.Conv2d.html) that you will get familiar with in the future\n",
        "- [MaxPool2D](https://pytorch.org/docs/stable/generated/torch.nn.MaxPool2d.html) to define a Max Pooling layer\n",
        "- [Activation functions](https://pytorch.org/docs/stable/nn.html#non-linear-activations-weighted-sum-nonlinearity)\n"
      ]
    },
    {
      "cell_type": "markdown",
      "metadata": {
        "id": "Scy2UlFCrYK_"
      },
      "source": [
        "We will build a CNN that has:\n",
        "- 2 convolutional layers with kernels of size 5x5\n",
        "- Max Pooling - to downsample spatial dimensions - you don't have to use it after each convolutional layer\n",
        "- A fully connected network that will\n",
        "  - Take as input the features that were extracted by the convolutional layers\n",
        "  - Output a score for each class"
      ]
    },
    {
      "cell_type": "code",
      "execution_count": 14,
      "metadata": {
        "id": "mQkMCx9nq9Oi"
      },
      "outputs": [],
      "source": [
        "class ConvNet(nn.Module):\n",
        "    def __init__(self):\n",
        "        super(ConvNet, self).__init__()\n",
        "\n",
        "        # First conv layer\n",
        "        self.conv1 = nn.Conv2d(in_channels=3, out_channels=6, kernel_size=5)\n",
        "\n",
        "        # Second conv layer\n",
        "        self.conv2 = nn.Conv2d(in_channels=6, out_channels=16, kernel_size=5)\n",
        "\n",
        "        # Pooling layer - used after both layers of convolution\n",
        "        self.pool = nn.MaxPool2d(kernel_size=2, stride=2)\n",
        "\n",
        "        # Linear layers of the fully connected classifier\n",
        "        self.fc1 = nn.Linear(in_features=16 * 5 * 5, out_features=120)\n",
        "        self.fc2 = nn.Linear(in_features=120, out_features=84)\n",
        "        self.fc3 = nn.Linear(in_features=84, out_features=10)\n",
        "\n",
        "        # Activation function - can be replaced by other better functions (GELU, Mish etc.)\n",
        "        self.activation = nn.ReLU()\n",
        "\n",
        "    def forward(self, x):\n",
        "        ### Convolutional Part\n",
        "\n",
        "        # input - x shape - (3,32,32)\n",
        "\n",
        "        x = self.activation(self.conv1(x))\n",
        "        # After conv - x shape - (6,28,28)\n",
        "\n",
        "        x = self.pool(x)\n",
        "        # After pooling - x shape - (6,14,14)\n",
        "\n",
        "        x = self.activation(self.conv2(x))\n",
        "        # After conv - x shape - (16,10,10)\n",
        "\n",
        "        x = self.pool(x)\n",
        "        # After pooling - x shape - (16,5,5)\n",
        "\n",
        "        # Flatten features for input to fully connected layers - Transform the features into 1D vector\n",
        "        x = x.view(-1, 16 * 5 * 5)\n",
        "\n",
        "        ### Fully connected part\n",
        "        x = self.activation(self.fc1(x))\n",
        "        x = self.activation(self.fc2(x))\n",
        "\n",
        "        # Output is 10 scores, one for each class\n",
        "        x = self.fc3(x)\n",
        "\n",
        "        return x"
      ]
    },
    {
      "cell_type": "markdown",
      "metadata": {
        "id": "dhBn1TbDrHnm"
      },
      "source": [
        "Notice how the shape of the input **x** changes through convolutional layers and pooling layers. Convolution modifies the channel dimension based on the `out_channels` argument and the spatial dimension based on the dimension of the `kernel_size`. The spatial dimension of the output can also be modified based on the `padding` and `stride` arguments.\n",
        "\n",
        "The spatial dimension is computed with this formula: $[(W−K+2P)/S]+1$.\n",
        "\n",
        "* W is the input size - 32 (in first conv layer)\n",
        "* K is the Kernel size - 5\n",
        "* P is the padding - default 0\n",
        "* S is the stride - default 1\n",
        "\n",
        "You can check the full formula [here](https://pytorch.org/docs/stable/generated/torch.nn.Conv2d.html) in the 'Shape' section.\n",
        "\n",
        "It is important to monitor the shape of the input after each operation to make sure everything is working as expected.\n",
        "\n",
        "It is also important because you need to know the number of input neurons for the fully connected classifier."
      ]
    },
    {
      "cell_type": "markdown",
      "metadata": {
        "id": "tTe2j0Ibu2dK"
      },
      "source": [
        "### Exercises"
      ]
    },
    {
      "cell_type": "markdown",
      "metadata": {
        "id": "e8kz5n8cu6wP"
      },
      "source": [
        "**Exercise 1** - Run the training. Play with hyperparameters and network structure and try to improve results\n",
        "\n",
        "Things you may want to experiment with:\n",
        "- Changing the learning rate and number of epochs\n",
        "- Adding or removing linear layers in the fully connected part\n",
        "- Adding convolutional layers\n",
        "- Changing the kernel size and the number of output channels of the layers\n",
        "\n",
        "If you add convolutional layers be careful about adding pooling layers - they may downsample the spatial size too much and you will lose important information"
      ]
    },
    {
      "cell_type": "code",
      "execution_count": 15,
      "metadata": {
        "id": "VE4FSAUHvkkW"
      },
      "outputs": [
        {
          "data": {
            "text/plain": [
              "ConvNet(\n",
              "  (conv1): Conv2d(3, 6, kernel_size=(5, 5), stride=(1, 1))\n",
              "  (conv2): Conv2d(6, 16, kernel_size=(5, 5), stride=(1, 1))\n",
              "  (pool): MaxPool2d(kernel_size=2, stride=2, padding=0, dilation=1, ceil_mode=False)\n",
              "  (fc1): Linear(in_features=400, out_features=120, bias=True)\n",
              "  (fc2): Linear(in_features=120, out_features=84, bias=True)\n",
              "  (fc3): Linear(in_features=84, out_features=10, bias=True)\n",
              "  (activation): ReLU()\n",
              ")"
            ]
          },
          "execution_count": 15,
          "metadata": {},
          "output_type": "execute_result"
        }
      ],
      "source": [
        "model = ConvNet()\n",
        "model.to(device)"
      ]
    },
    {
      "cell_type": "code",
      "execution_count": 16,
      "metadata": {
        "id": "vj7LkghUvmbI"
      },
      "outputs": [],
      "source": [
        "# Hyperparameters\n",
        "learning_rate = 0.001\n",
        "epochs = 10\n",
        "\n",
        "# Loss - dependinng on the task you should change this\n",
        "criterion = nn.CrossEntropyLoss()\n",
        "\n",
        "# Adam is an improved gradient descent algorithm\n",
        "optimizer = optim.Adam(model.parameters(), lr=learning_rate)"
      ]
    },
    {
      "cell_type": "code",
      "execution_count": 17,
      "metadata": {
        "id": "ZAqmkE34vwer"
      },
      "outputs": [
        {
          "name": "stdout",
          "output_type": "stream",
          "text": [
            "[INFO] Using GPU: NVIDIA GeForce RTX 3050 Ti Laptop GPU\n",
            "\n",
            "100%|\u001b[36m██████████\u001b[0m| 196/196 [00:12<00:00, 15.62it/s, Epoch=0, Train_Loss=1.81]\n",
            "100%|\u001b[36m██████████\u001b[0m| 40/40 [00:01<00:00, 21.05it/s, Epoch=0, Valid_Acc=41.6, Valid_Loss=1.59]\n",
            "Validation Accuracy Improved (0.0 ---> 41.64)\n",
            "\n",
            "100%|\u001b[36m██████████\u001b[0m| 196/196 [00:11<00:00, 16.58it/s, Epoch=1, Train_Loss=1.54]\n",
            "100%|\u001b[36m██████████\u001b[0m| 40/40 [00:01<00:00, 22.82it/s, Epoch=1, Valid_Acc=46.4, Valid_Loss=1.49]\n",
            "Validation Accuracy Improved (41.64 ---> 46.44)\n",
            "\n",
            "100%|\u001b[36m██████████\u001b[0m| 196/196 [00:14<00:00, 13.44it/s, Epoch=2, Train_Loss=1.43]\n",
            "100%|\u001b[36m██████████\u001b[0m| 40/40 [00:01<00:00, 22.76it/s, Epoch=2, Valid_Acc=50.5, Valid_Loss=1.37]\n",
            "Validation Accuracy Improved (46.44 ---> 50.48)\n",
            "\n",
            "100%|\u001b[36m██████████\u001b[0m| 196/196 [00:11<00:00, 16.85it/s, Epoch=3, Train_Loss=1.34]\n",
            "100%|\u001b[36m██████████\u001b[0m| 40/40 [00:01<00:00, 22.82it/s, Epoch=3, Valid_Acc=53, Valid_Loss=1.3]   \n",
            "Validation Accuracy Improved (50.48 ---> 52.99)\n",
            "\n",
            "100%|\u001b[36m██████████\u001b[0m| 196/196 [00:14<00:00, 13.38it/s, Epoch=4, Train_Loss=1.27]\n",
            "100%|\u001b[36m██████████\u001b[0m| 40/40 [00:01<00:00, 22.64it/s, Epoch=4, Valid_Acc=54.5, Valid_Loss=1.27]\n",
            "Validation Accuracy Improved (52.99 ---> 54.53)\n",
            "\n",
            "100%|\u001b[36m██████████\u001b[0m| 196/196 [00:11<00:00, 16.61it/s, Epoch=5, Train_Loss=1.22]\n",
            "100%|\u001b[36m██████████\u001b[0m| 40/40 [00:01<00:00, 22.71it/s, Epoch=5, Valid_Acc=56.7, Valid_Loss=1.23]\n",
            "Validation Accuracy Improved (54.53 ---> 56.72)\n",
            "\n",
            "100%|\u001b[36m██████████\u001b[0m| 196/196 [00:11<00:00, 16.73it/s, Epoch=6, Train_Loss=1.17]\n",
            "100%|\u001b[36m██████████\u001b[0m| 40/40 [00:01<00:00, 22.65it/s, Epoch=6, Valid_Acc=58.1, Valid_Loss=1.18]\n",
            "Validation Accuracy Improved (56.72 ---> 58.12)\n",
            "\n",
            "100%|\u001b[36m██████████\u001b[0m| 196/196 [00:14<00:00, 13.33it/s, Epoch=7, Train_Loss=1.14]\n",
            "100%|\u001b[36m██████████\u001b[0m| 40/40 [00:01<00:00, 22.68it/s, Epoch=7, Valid_Acc=58.1, Valid_Loss=1.17]\n",
            "\n",
            "100%|\u001b[36m██████████\u001b[0m| 196/196 [00:11<00:00, 16.81it/s, Epoch=8, Train_Loss=1.1] \n",
            "100%|\u001b[36m██████████\u001b[0m| 40/40 [00:01<00:00, 21.90it/s, Epoch=8, Valid_Acc=58.7, Valid_Loss=1.17]\n",
            "Validation Accuracy Improved (58.12 ---> 58.69)\n",
            "\n",
            "100%|\u001b[36m██████████\u001b[0m| 196/196 [00:14<00:00, 13.24it/s, Epoch=9, Train_Loss=1.07]\n",
            "100%|\u001b[36m██████████\u001b[0m| 40/40 [00:02<00:00, 18.85it/s, Epoch=9, Valid_Acc=60.4, Valid_Loss=1.13]\n",
            "Validation Accuracy Improved (58.69 ---> 60.41)\n",
            "\n"
          ]
        }
      ],
      "source": [
        "run_training(model, criterion, optimizer, epochs)"
      ]
    },
    {
      "cell_type": "markdown",
      "metadata": {
        "id": "aEBAc2vtwtja"
      },
      "source": [
        "**Exercise 2** - Image Augmentations\n",
        "\n",
        "Your job is to add image augmentations to the training samples in order to improve the perfrmance of your CNN.\n",
        "\n",
        "Go to the cell in which we defined the trainset and trainloader and add\n",
        "\n",
        "**Explanation of Augmentations**\n",
        "\n",
        "Augmentations are operations applied to the input that modify it but keep its label. They are used for diversifying the training data.\n",
        "\n",
        "What operations can we apply to an image and not alter its class label?\n",
        "Examples: random rotations, random crops, random flips, etc.\n",
        "\n",
        "Luckily we do not have to implement these. They are already available in PyTorch.\n",
        "\n",
        "[Here](https://pytorch.org/vision/stable/auto_examples/transforms/plot_transforms_illustrations.html#sphx-glr-auto-examples-transforms-plot-transforms-illustrations-py) is an illustration of usual image transforms (augmentations).\n",
        "\n",
        "[Here](https://pytorch.org/vision/0.9/transforms.html) is a list of transforms you can use.\n"
      ]
    },
    {
      "cell_type": "markdown",
      "metadata": {
        "id": "31GNztAA0krW"
      },
      "source": [
        "**Exercise 3** - Chest X-ray Classification\n",
        "\n",
        "You will have to train a CNN to classify Chest X-ray images into 2 classes: Normal and Pneumonia.\n",
        "\n",
        "You will construct your own CNN model and train it.\n",
        "\n",
        "You can re-use the train_epoch, val_epoch, and run_training functions without modifying them."
      ]
    },
    {
      "cell_type": "markdown",
      "metadata": {
        "id": "8HU-QH-vAXtH"
      },
      "source": [
        "Downloading data"
      ]
    },
    {
      "cell_type": "code",
      "execution_count": 21,
      "metadata": {
        "id": "nOe-YhQG2Y9Q"
      },
      "outputs": [
        {
          "name": "stdout",
          "output_type": "stream",
          "text": [
            "Downloading...\n",
            "From (original): https://drive.google.com/uc?id=1-FUdrWc6hLTiLer_5Aj1OFsXcSxQXWiJ\n",
            "From (redirected): https://drive.google.com/uc?id=1-FUdrWc6hLTiLer_5Aj1OFsXcSxQXWiJ&confirm=t&uuid=4dd2ea7f-25ad-4f34-825c-dcf499f2baf2\n",
            "To: /home/adelin2003/An-4/DSM---4th-Year/xray_dataset.zip\n",
            "100%|████████████████████████████████████████| 108M/108M [00:12<00:00, 8.41MB/s]\n"
          ]
        }
      ],
      "source": [
        "!gdown 'https://drive.google.com/uc?id=1-FUdrWc6hLTiLer_5Aj1OFsXcSxQXWiJ'\n",
        "!unzip -q xray_dataset.zip"
      ]
    },
    {
      "cell_type": "markdown",
      "metadata": {
        "id": "sM0zpl1sAbV7"
      },
      "source": [
        "Necessary imports for reading the images"
      ]
    },
    {
      "cell_type": "code",
      "execution_count": 22,
      "metadata": {
        "id": "J3_4wuao9AG-"
      },
      "outputs": [],
      "source": [
        "import os\n",
        "import PIL"
      ]
    },
    {
      "cell_type": "markdown",
      "metadata": {
        "id": "K7sGbXhsAe9C"
      },
      "source": [
        "Class for custom pytorch dataset. It is a wrapper for the code that reads images and returns samples + labels.\n",
        "\n",
        "It is used in conjunction with Dataloader which constructs batches of samples."
      ]
    },
    {
      "cell_type": "code",
      "execution_count": 24,
      "metadata": {
        "id": "qExXG6w22pKj"
      },
      "outputs": [],
      "source": [
        "class ChestXrayDataset(Dataset):\n",
        "    def __init__(self, root_dir, train, transform=None):\n",
        "        if train:\n",
        "            print(\"Training dataset\")\n",
        "            self.data_path = os.path.join(root_dir, 'train')\n",
        "        else:\n",
        "            print(\"Test dataset\")\n",
        "            self.data_path = os.path.join(root_dir, 'test')\n",
        "\n",
        "        # Get all image paths\n",
        "        self.image_paths = [os.path.join(self.data_path, 'NORMAL', x) for x in os.listdir(os.path.join(self.data_path, 'NORMAL'))]\n",
        "        self.image_paths += [os.path.join(self.data_path, 'PNEUMONIA', x) for x in os.listdir(os.path.join(self.data_path, 'PNEUMONIA'))]\n",
        "\n",
        "        # Get labels\n",
        "        self.labels = [0]*len(os.listdir(os.path.join(self.data_path, 'NORMAL'))) + [1]*len(os.listdir(os.path.join(self.data_path, 'PNEUMONIA')))\n",
        "\n",
        "        # Print number of normal and pneumonia images\n",
        "        print(f'Normal Images: {len(os.listdir(os.path.join(self.data_path, \"NORMAL\")))}')\n",
        "        print(f'Pneumonia Images: {len(os.listdir(os.path.join(self.data_path, \"PNEUMONIA\")))}')\n",
        "        print(\"-\" * 50)\n",
        "\n",
        "        self.transform = transform\n",
        "\n",
        "    def __len__(self):\n",
        "        return len(self.labels)\n",
        "\n",
        "    def __getitem__(self, idx):\n",
        "        image = PIL.Image.open(self.image_paths[idx])\n",
        "        label = self.labels[idx]\n",
        "\n",
        "        if self.transform:\n",
        "            image = self.transform(image)\n",
        "\n",
        "        return image, label\n"
      ]
    },
    {
      "cell_type": "markdown",
      "metadata": {
        "id": "4E4j7bTYBQaH"
      },
      "source": [
        "We create the dataloaders. As before, use train transforms for image augmentations."
      ]
    },
    {
      "cell_type": "code",
      "execution_count": 25,
      "metadata": {
        "id": "djl5N9HW9Ked"
      },
      "outputs": [
        {
          "name": "stdout",
          "output_type": "stream",
          "text": [
            "Training dataset\n",
            "Normal Images: 1341\n",
            "Pneumonia Images: 3875\n",
            "--------------------------------------------------\n",
            "Test dataset\n",
            "Normal Images: 242\n",
            "Pneumonia Images: 398\n",
            "--------------------------------------------------\n"
          ]
        }
      ],
      "source": [
        "train_transform = transforms.Compose(\n",
        "    [\n",
        "      # Add image transforms here\n",
        "\n",
        "\n",
        "      # I recommend resizing the images to 64x64 to have faster training\n",
        "      # If you increase it you may obtain better accuracy but training will take more\n",
        "      # If you change this, also change it in test_transforms\n",
        "      transforms.Resize((64, 64)),\n",
        "      transforms.ToTensor(),\n",
        "      transforms.Normalize((0.5, 0.5, 0.5), (0.5, 0.5, 0.5))\n",
        "    ])\n",
        "\n",
        "test_transform = transforms.Compose(\n",
        "    [\n",
        "        transforms.Resize((64, 64)),\n",
        "        transforms.ToTensor(),\n",
        "        transforms.Normalize((0.5, 0.5, 0.5), (0.5, 0.5, 0.5))\n",
        "    ])\n",
        "\n",
        "trainset = ChestXrayDataset(root_dir='./chest_xray/', train=True, transform=train_transform)\n",
        "\n",
        "# The batch size is the number of images the model processes in parallel\n",
        "# We use shuffle for training as we don't want the model to see the images in the same order\n",
        "trainloader = DataLoader(trainset, batch_size=128,\n",
        "                                          shuffle=True)\n",
        "\n",
        "testset = ChestXrayDataset(root_dir='./chest_xray/', train=False, transform=test_transform)\n",
        "\n",
        "# For testing we don't have to shuffle the data\n",
        "testloader = DataLoader(testset, batch_size=128,\n",
        "                                         shuffle=False)\n",
        "\n",
        "classes = ('Normal', 'Pneumonia')"
      ]
    },
    {
      "cell_type": "markdown",
      "metadata": {
        "id": "giGJTkx0BZbE"
      },
      "source": [
        "Show samples from the dataset. Re-run this cell to obtain different samples and see what you can observe"
      ]
    },
    {
      "cell_type": "code",
      "execution_count": 26,
      "metadata": {
        "id": "UzOnz0Ez-T0f"
      },
      "outputs": [
        {
          "name": "stdout",
          "output_type": "stream",
          "text": [
            "     Pneumonia      Pneumonia      Pneumonia      Pneumonia\n"
          ]
        },
        {
          "data": {
            "image/png": "[encoded data removed]",
            "text/plain": [
              "<Figure size 640x480 with 1 Axes>"
            ]
          },
          "metadata": {},
          "output_type": "display_data"
        }
      ],
      "source": [
        "# get some random training images\n",
        "dataiter = iter(trainloader)\n",
        "images, labels = next(dataiter)\n",
        "\n",
        "# show images\n",
        "imshow(torchvision.utils.make_grid(images[:4]))\n",
        "\n",
        "# print labels\n",
        "print(' '.join('%14s' % classes[labels[j]] for j in range(4)))"
      ]
    },
    {
      "cell_type": "markdown",
      "metadata": {
        "id": "O94OypBNBgQe"
      },
      "source": [
        "You have to construct the CNN and experiment with different configurations so that you obtain the best performance."
      ]
    },
    {
      "cell_type": "code",
      "execution_count": 27,
      "metadata": {
        "id": "WoHeOjpzBhmM"
      },
      "outputs": [],
      "source": [
        "class ChestXrayConvNet(nn.Module):\n",
        "    def __init__(self):\n",
        "        super(ChestXrayConvNet, self).__init__()\n",
        "\n",
        "        # TODO - write conv layers and pooling\n",
        "\n",
        "        # TODO - write linear layers\n",
        "\n",
        "        # TODO - Activation function - Do not forget to use it in forward function after conv and linear layers\n",
        "\n",
        "    def forward(self, x):\n",
        "        ### Convolutional Part\n",
        "\n",
        "        # TODO - write the pass through conv layers\n",
        "\n",
        "        # TODO - Flatten features for input to fully connected layers - Transform the features into 1D vector\n",
        "\n",
        "        ### Fully connected part\n",
        "        # TODO - write the pass through fully connected layers\n",
        "\n",
        "        return x"
      ]
    },
    {
      "cell_type": "code",
      "execution_count": 28,
      "metadata": {
        "id": "uCgVVQfMCQKF"
      },
      "outputs": [
        {
          "data": {
            "text/plain": [
              "ChestXrayConvNet()"
            ]
          },
          "execution_count": 28,
          "metadata": {},
          "output_type": "execute_result"
        }
      ],
      "source": [
        "model = ChestXrayConvNet()\n",
        "model.to(device)"
      ]
    },
    {
      "cell_type": "code",
      "execution_count": 29,
      "metadata": {
        "id": "Y6UWE3NRCZi-"
      },
      "outputs": [
        {
          "ename": "ValueError",
          "evalue": "optimizer got an empty parameter list",
          "output_type": "error",
          "traceback": [
            "\u001b[31m---------------------------------------------------------------------------\u001b[39m",
            "\u001b[31mValueError\u001b[39m                                Traceback (most recent call last)",
            "\u001b[36mCell\u001b[39m\u001b[36m \u001b[39m\u001b[32mIn[29]\u001b[39m\u001b[32m, line 9\u001b[39m\n\u001b[32m      6\u001b[39m criterion = nn.CrossEntropyLoss()\n\u001b[32m      8\u001b[39m \u001b[38;5;66;03m# Adam is an improved gradient descent algorithm\u001b[39;00m\n\u001b[32m----> \u001b[39m\u001b[32m9\u001b[39m optimizer = \u001b[43moptim\u001b[49m\u001b[43m.\u001b[49m\u001b[43mAdam\u001b[49m\u001b[43m(\u001b[49m\u001b[43mmodel\u001b[49m\u001b[43m.\u001b[49m\u001b[43mparameters\u001b[49m\u001b[43m(\u001b[49m\u001b[43m)\u001b[49m\u001b[43m,\u001b[49m\u001b[43m \u001b[49m\u001b[43mlr\u001b[49m\u001b[43m=\u001b[49m\u001b[43mlearning_rate\u001b[49m\u001b[43m)\u001b[49m\n",
            "\u001b[36mFile \u001b[39m\u001b[32m~/An-4/DSM---4th-Year/.venv/lib/python3.12/site-packages/torch/optim/adam.py:101\u001b[39m, in \u001b[36mAdam.__init__\u001b[39m\u001b[34m(self, params, lr, betas, eps, weight_decay, amsgrad, foreach, maximize, capturable, differentiable, fused, decoupled_weight_decay)\u001b[39m\n\u001b[32m     86\u001b[39m         \u001b[38;5;28;01mraise\u001b[39;00m \u001b[38;5;167;01mValueError\u001b[39;00m(\u001b[33m\"\u001b[39m\u001b[33mTensor betas[1] must be 1-element\u001b[39m\u001b[33m\"\u001b[39m)\n\u001b[32m     88\u001b[39m defaults = {\n\u001b[32m     89\u001b[39m     \u001b[33m\"\u001b[39m\u001b[33mlr\u001b[39m\u001b[33m\"\u001b[39m: lr,\n\u001b[32m     90\u001b[39m     \u001b[33m\"\u001b[39m\u001b[33mbetas\u001b[39m\u001b[33m\"\u001b[39m: betas,\n\u001b[32m   (...)\u001b[39m\u001b[32m     99\u001b[39m     \u001b[33m\"\u001b[39m\u001b[33mdecoupled_weight_decay\u001b[39m\u001b[33m\"\u001b[39m: decoupled_weight_decay,\n\u001b[32m    100\u001b[39m }\n\u001b[32m--> \u001b[39m\u001b[32m101\u001b[39m \u001b[38;5;28;43msuper\u001b[39;49m\u001b[43m(\u001b[49m\u001b[43m)\u001b[49m\u001b[43m.\u001b[49m\u001b[34;43m__init__\u001b[39;49m\u001b[43m(\u001b[49m\u001b[43mparams\u001b[49m\u001b[43m,\u001b[49m\u001b[43m \u001b[49m\u001b[43mdefaults\u001b[49m\u001b[43m)\u001b[49m\n\u001b[32m    103\u001b[39m \u001b[38;5;28;01mif\u001b[39;00m fused:\n\u001b[32m    104\u001b[39m     \u001b[38;5;28;01mif\u001b[39;00m differentiable:\n",
            "\u001b[36mFile \u001b[39m\u001b[32m~/An-4/DSM---4th-Year/.venv/lib/python3.12/site-packages/torch/optim/optimizer.py:396\u001b[39m, in \u001b[36mOptimizer.__init__\u001b[39m\u001b[34m(self, params, defaults)\u001b[39m\n\u001b[32m    394\u001b[39m param_groups = \u001b[38;5;28mlist\u001b[39m(params)\n\u001b[32m    395\u001b[39m \u001b[38;5;28;01mif\u001b[39;00m \u001b[38;5;28mlen\u001b[39m(param_groups) == \u001b[32m0\u001b[39m:\n\u001b[32m--> \u001b[39m\u001b[32m396\u001b[39m     \u001b[38;5;28;01mraise\u001b[39;00m \u001b[38;5;167;01mValueError\u001b[39;00m(\u001b[33m\"\u001b[39m\u001b[33moptimizer got an empty parameter list\u001b[39m\u001b[33m\"\u001b[39m)\n\u001b[32m    397\u001b[39m \u001b[38;5;28;01mif\u001b[39;00m \u001b[38;5;129;01mnot\u001b[39;00m \u001b[38;5;28misinstance\u001b[39m(param_groups[\u001b[32m0\u001b[39m], \u001b[38;5;28mdict\u001b[39m):\n\u001b[32m    398\u001b[39m     param_groups = [{\u001b[33m\"\u001b[39m\u001b[33mparams\u001b[39m\u001b[33m\"\u001b[39m: param_groups}]\n",
            "\u001b[31mValueError\u001b[39m: optimizer got an empty parameter list"
          ]
        }
      ],
      "source": [
        "# TODO - Choose Hyperparameters - these ones may not be good\n",
        "learning_rate = 0.001\n",
        "epochs = 10\n",
        "\n",
        "# Loss - dependinng on the task you should change this\n",
        "criterion = nn.CrossEntropyLoss()\n",
        "\n",
        "# Adam is an improved gradient descent algorithm\n",
        "optimizer = optim.Adam(model.parameters(), lr=learning_rate)"
      ]
    },
    {
      "cell_type": "code",
      "execution_count": 30,
      "metadata": {
        "id": "soRgVFRXCszi"
      },
      "outputs": [
        {
          "name": "stdout",
          "output_type": "stream",
          "text": [
            "[INFO] Using GPU: NVIDIA GeForce RTX 3050 Ti Laptop GPU\n",
            "\n",
            "  0%|\u001b[36m          \u001b[0m| 0/41 [00:00<?, ?it/s]\n"
          ]
        },
        {
          "ename": "RuntimeError",
          "evalue": "only batches of spatial targets supported (3D tensors) but got targets of size: : [128]",
          "output_type": "error",
          "traceback": [
            "\u001b[31m---------------------------------------------------------------------------\u001b[39m",
            "\u001b[31mRuntimeError\u001b[39m                              Traceback (most recent call last)",
            "\u001b[36mCell\u001b[39m\u001b[36m \u001b[39m\u001b[32mIn[30]\u001b[39m\u001b[32m, line 1\u001b[39m\n\u001b[32m----> \u001b[39m\u001b[32m1\u001b[39m \u001b[43mrun_training\u001b[49m\u001b[43m(\u001b[49m\u001b[43mmodel\u001b[49m\u001b[43m,\u001b[49m\u001b[43m \u001b[49m\u001b[43mcriterion\u001b[49m\u001b[43m,\u001b[49m\u001b[43m \u001b[49m\u001b[43moptimizer\u001b[49m\u001b[43m,\u001b[49m\u001b[43m \u001b[49m\u001b[43mepochs\u001b[49m\u001b[43m)\u001b[49m\n",
            "\u001b[36mCell\u001b[39m\u001b[36m \u001b[39m\u001b[32mIn[9]\u001b[39m\u001b[32m, line 12\u001b[39m, in \u001b[36mrun_training\u001b[39m\u001b[34m(model, criterion, optimizer, num_epochs)\u001b[39m\n\u001b[32m      9\u001b[39m \u001b[38;5;66;03m# We train the emodel for a number of epochs\u001b[39;00m\n\u001b[32m     10\u001b[39m \u001b[38;5;28;01mfor\u001b[39;00m epoch \u001b[38;5;129;01min\u001b[39;00m \u001b[38;5;28mrange\u001b[39m(num_epochs):\n\u001b[32m---> \u001b[39m\u001b[32m12\u001b[39m     train_loss = \u001b[43mtrain_epoch\u001b[49m\u001b[43m(\u001b[49m\u001b[43mmodel\u001b[49m\u001b[43m,\u001b[49m\u001b[43m \u001b[49m\u001b[43mtrainloader\u001b[49m\u001b[43m,\u001b[49m\u001b[43m \u001b[49m\u001b[43mdevice\u001b[49m\u001b[43m,\u001b[49m\u001b[43m \u001b[49m\u001b[43moptimizer\u001b[49m\u001b[43m,\u001b[49m\u001b[43m \u001b[49m\u001b[43mcriterion\u001b[49m\u001b[43m,\u001b[49m\u001b[43m \u001b[49m\u001b[43mepoch\u001b[49m\u001b[43m)\u001b[49m\n\u001b[32m     14\u001b[39m     \u001b[38;5;66;03m# For validation we do not keep track of gradients\u001b[39;00m\n\u001b[32m     15\u001b[39m     \u001b[38;5;28;01mwith\u001b[39;00m torch.no_grad():\n",
            "\u001b[36mCell\u001b[39m\u001b[36m \u001b[39m\u001b[32mIn[7]\u001b[39m\u001b[32m, line 26\u001b[39m, in \u001b[36mtrain_epoch\u001b[39m\u001b[34m(model, dataloader, device, optimizer, criterion, epoch)\u001b[39m\n\u001b[32m     23\u001b[39m pred = model(images)\n\u001b[32m     25\u001b[39m \u001b[38;5;66;03m# Compute loss for this batch\u001b[39;00m\n\u001b[32m---> \u001b[39m\u001b[32m26\u001b[39m loss = \u001b[43mcriterion\u001b[49m\u001b[43m(\u001b[49m\u001b[43mpred\u001b[49m\u001b[43m,\u001b[49m\u001b[43m \u001b[49m\u001b[43mlabels\u001b[49m\u001b[43m)\u001b[49m\n\u001b[32m     28\u001b[39m \u001b[38;5;66;03m# Compute gradients for each weight (backpropagation)\u001b[39;00m\n\u001b[32m     29\u001b[39m loss.backward()\n",
            "\u001b[36mFile \u001b[39m\u001b[32m~/An-4/DSM---4th-Year/.venv/lib/python3.12/site-packages/torch/nn/modules/module.py:1775\u001b[39m, in \u001b[36mModule._wrapped_call_impl\u001b[39m\u001b[34m(self, *args, **kwargs)\u001b[39m\n\u001b[32m   1773\u001b[39m     \u001b[38;5;28;01mreturn\u001b[39;00m \u001b[38;5;28mself\u001b[39m._compiled_call_impl(*args, **kwargs)  \u001b[38;5;66;03m# type: ignore[misc]\u001b[39;00m\n\u001b[32m   1774\u001b[39m \u001b[38;5;28;01melse\u001b[39;00m:\n\u001b[32m-> \u001b[39m\u001b[32m1775\u001b[39m     \u001b[38;5;28;01mreturn\u001b[39;00m \u001b[38;5;28;43mself\u001b[39;49m\u001b[43m.\u001b[49m\u001b[43m_call_impl\u001b[49m\u001b[43m(\u001b[49m\u001b[43m*\u001b[49m\u001b[43margs\u001b[49m\u001b[43m,\u001b[49m\u001b[43m \u001b[49m\u001b[43m*\u001b[49m\u001b[43m*\u001b[49m\u001b[43mkwargs\u001b[49m\u001b[43m)\u001b[49m\n",
            "\u001b[36mFile \u001b[39m\u001b[32m~/An-4/DSM---4th-Year/.venv/lib/python3.12/site-packages/torch/nn/modules/module.py:1786\u001b[39m, in \u001b[36mModule._call_impl\u001b[39m\u001b[34m(self, *args, **kwargs)\u001b[39m\n\u001b[32m   1781\u001b[39m \u001b[38;5;66;03m# If we don't have any hooks, we want to skip the rest of the logic in\u001b[39;00m\n\u001b[32m   1782\u001b[39m \u001b[38;5;66;03m# this function, and just call forward.\u001b[39;00m\n\u001b[32m   1783\u001b[39m \u001b[38;5;28;01mif\u001b[39;00m \u001b[38;5;129;01mnot\u001b[39;00m (\u001b[38;5;28mself\u001b[39m._backward_hooks \u001b[38;5;129;01mor\u001b[39;00m \u001b[38;5;28mself\u001b[39m._backward_pre_hooks \u001b[38;5;129;01mor\u001b[39;00m \u001b[38;5;28mself\u001b[39m._forward_hooks \u001b[38;5;129;01mor\u001b[39;00m \u001b[38;5;28mself\u001b[39m._forward_pre_hooks\n\u001b[32m   1784\u001b[39m         \u001b[38;5;129;01mor\u001b[39;00m _global_backward_pre_hooks \u001b[38;5;129;01mor\u001b[39;00m _global_backward_hooks\n\u001b[32m   1785\u001b[39m         \u001b[38;5;129;01mor\u001b[39;00m _global_forward_hooks \u001b[38;5;129;01mor\u001b[39;00m _global_forward_pre_hooks):\n\u001b[32m-> \u001b[39m\u001b[32m1786\u001b[39m     \u001b[38;5;28;01mreturn\u001b[39;00m \u001b[43mforward_call\u001b[49m\u001b[43m(\u001b[49m\u001b[43m*\u001b[49m\u001b[43margs\u001b[49m\u001b[43m,\u001b[49m\u001b[43m \u001b[49m\u001b[43m*\u001b[49m\u001b[43m*\u001b[49m\u001b[43mkwargs\u001b[49m\u001b[43m)\u001b[49m\n\u001b[32m   1788\u001b[39m result = \u001b[38;5;28;01mNone\u001b[39;00m\n\u001b[32m   1789\u001b[39m called_always_called_hooks = \u001b[38;5;28mset\u001b[39m()\n",
            "\u001b[36mFile \u001b[39m\u001b[32m~/An-4/DSM---4th-Year/.venv/lib/python3.12/site-packages/torch/nn/modules/loss.py:1385\u001b[39m, in \u001b[36mCrossEntropyLoss.forward\u001b[39m\u001b[34m(self, input, target)\u001b[39m\n\u001b[32m   1383\u001b[39m \u001b[38;5;28;01mdef\u001b[39;00m\u001b[38;5;250m \u001b[39m\u001b[34mforward\u001b[39m(\u001b[38;5;28mself\u001b[39m, \u001b[38;5;28minput\u001b[39m: Tensor, target: Tensor) -> Tensor:\n\u001b[32m   1384\u001b[39m \u001b[38;5;250m    \u001b[39m\u001b[33;03m\"\"\"Runs the forward pass.\"\"\"\u001b[39;00m\n\u001b[32m-> \u001b[39m\u001b[32m1385\u001b[39m     \u001b[38;5;28;01mreturn\u001b[39;00m \u001b[43mF\u001b[49m\u001b[43m.\u001b[49m\u001b[43mcross_entropy\u001b[49m\u001b[43m(\u001b[49m\n\u001b[32m   1386\u001b[39m \u001b[43m        \u001b[49m\u001b[38;5;28;43minput\u001b[39;49m\u001b[43m,\u001b[49m\n\u001b[32m   1387\u001b[39m \u001b[43m        \u001b[49m\u001b[43mtarget\u001b[49m\u001b[43m,\u001b[49m\n\u001b[32m   1388\u001b[39m \u001b[43m        \u001b[49m\u001b[43mweight\u001b[49m\u001b[43m=\u001b[49m\u001b[38;5;28;43mself\u001b[39;49m\u001b[43m.\u001b[49m\u001b[43mweight\u001b[49m\u001b[43m,\u001b[49m\n\u001b[32m   1389\u001b[39m \u001b[43m        \u001b[49m\u001b[43mignore_index\u001b[49m\u001b[43m=\u001b[49m\u001b[38;5;28;43mself\u001b[39;49m\u001b[43m.\u001b[49m\u001b[43mignore_index\u001b[49m\u001b[43m,\u001b[49m\n\u001b[32m   1390\u001b[39m \u001b[43m        \u001b[49m\u001b[43mreduction\u001b[49m\u001b[43m=\u001b[49m\u001b[38;5;28;43mself\u001b[39;49m\u001b[43m.\u001b[49m\u001b[43mreduction\u001b[49m\u001b[43m,\u001b[49m\n\u001b[32m   1391\u001b[39m \u001b[43m        \u001b[49m\u001b[43mlabel_smoothing\u001b[49m\u001b[43m=\u001b[49m\u001b[38;5;28;43mself\u001b[39;49m\u001b[43m.\u001b[49m\u001b[43mlabel_smoothing\u001b[49m\u001b[43m,\u001b[49m\n\u001b[32m   1392\u001b[39m \u001b[43m    \u001b[49m\u001b[43m)\u001b[49m\n",
            "\u001b[36mFile \u001b[39m\u001b[32m~/An-4/DSM---4th-Year/.venv/lib/python3.12/site-packages/torch/nn/functional.py:3458\u001b[39m, in \u001b[36mcross_entropy\u001b[39m\u001b[34m(input, target, weight, size_average, ignore_index, reduce, reduction, label_smoothing)\u001b[39m\n\u001b[32m   3456\u001b[39m \u001b[38;5;28;01mif\u001b[39;00m size_average \u001b[38;5;129;01mis\u001b[39;00m \u001b[38;5;129;01mnot\u001b[39;00m \u001b[38;5;28;01mNone\u001b[39;00m \u001b[38;5;129;01mor\u001b[39;00m reduce \u001b[38;5;129;01mis\u001b[39;00m \u001b[38;5;129;01mnot\u001b[39;00m \u001b[38;5;28;01mNone\u001b[39;00m:\n\u001b[32m   3457\u001b[39m     reduction = _Reduction.legacy_get_string(size_average, reduce)\n\u001b[32m-> \u001b[39m\u001b[32m3458\u001b[39m \u001b[38;5;28;01mreturn\u001b[39;00m \u001b[43mtorch\u001b[49m\u001b[43m.\u001b[49m\u001b[43m_C\u001b[49m\u001b[43m.\u001b[49m\u001b[43m_nn\u001b[49m\u001b[43m.\u001b[49m\u001b[43mcross_entropy_loss\u001b[49m\u001b[43m(\u001b[49m\n\u001b[32m   3459\u001b[39m \u001b[43m    \u001b[49m\u001b[38;5;28;43minput\u001b[39;49m\u001b[43m,\u001b[49m\n\u001b[32m   3460\u001b[39m \u001b[43m    \u001b[49m\u001b[43mtarget\u001b[49m\u001b[43m,\u001b[49m\n\u001b[32m   3461\u001b[39m \u001b[43m    \u001b[49m\u001b[43mweight\u001b[49m\u001b[43m,\u001b[49m\n\u001b[32m   3462\u001b[39m \u001b[43m    \u001b[49m\u001b[43m_Reduction\u001b[49m\u001b[43m.\u001b[49m\u001b[43mget_enum\u001b[49m\u001b[43m(\u001b[49m\u001b[43mreduction\u001b[49m\u001b[43m)\u001b[49m\u001b[43m,\u001b[49m\n\u001b[32m   3463\u001b[39m \u001b[43m    \u001b[49m\u001b[43mignore_index\u001b[49m\u001b[43m,\u001b[49m\n\u001b[32m   3464\u001b[39m \u001b[43m    \u001b[49m\u001b[43mlabel_smoothing\u001b[49m\u001b[43m,\u001b[49m\n\u001b[32m   3465\u001b[39m \u001b[43m\u001b[49m\u001b[43m)\u001b[49m\n",
            "\u001b[31mRuntimeError\u001b[39m: only batches of spatial targets supported (3D tensors) but got targets of size: : [128]"
          ]
        }
      ],
      "source": [
        "run_training(model, criterion, optimizer, epochs)"
      ]
    },
    {
      "cell_type": "markdown",
      "metadata": {
        "id": "l4yqB6BNC9r9"
      },
      "source": [
        "#### Problems\n",
        "\n",
        "In Deep Learning we are usually confronted with imbalanced datasets where some classes appear more frequently than others.\n",
        "- Notice that Pneumonia Images appear more frequently than normal ones in both training and testing\n",
        "- Accuracy may not be a good metric in this case. What accuracy will have a model that only predicts pneumonia? What metric should we use?\n",
        "- The model will see 3 times more training samples with pneumonia. It may learn to predict that pneumonia is more likely without actually looking for relevant cues in the image.\n",
        "\n",
        "Research what evaluation metrics to use for classification when the testing set is imbalanced.\n",
        "\n",
        "Research how we can improve the training when the training data is imbalanced."
      ]
    }
  ],
  "metadata": {
    "accelerator": "GPU",
    "colab": {
      "authorship_tag": "ABX9TyNCX8eaGZNXSVSfEFOqPX27",
      "gpuType": "T4",
      "include_colab_link": true,
      "provenance": []
    },
    "kernelspec": {
      "display_name": ".venv (3.12.3)",
      "language": "python",
      "name": "python3"
    },
    "language_info": {
      "codemirror_mode": {
        "name": "ipython",
        "version": 3
      },
      "file_extension": ".py",
      "mimetype": "text/x-python",
      "name": "python",
      "nbconvert_exporter": "python",
      "pygments_lexer": "ipython3",
      "version": "3.12.3"
    }
  },
  "nbformat": 4,
  "nbformat_minor": 0
}
